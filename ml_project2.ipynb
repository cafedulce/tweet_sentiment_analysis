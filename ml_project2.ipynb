{
 "cells": [
  {
   "cell_type": "code",
   "execution_count": 2,
   "metadata": {},
   "outputs": [],
   "source": [
    "%load_ext autotime"
   ]
  },
  {
   "cell_type": "code",
   "execution_count": 3,
   "metadata": {},
   "outputs": [
    {
     "name": "stdout",
     "output_type": "stream",
     "text": [
      "time: 8.95 s\n"
     ]
    }
   ],
   "source": [
    "import nltk\n",
    "from nltk.tokenize import sent_tokenize, word_tokenize\n",
    "pth = r\"C:\\Users\\patrik\\Desktop\\EPFL\\ada\" #change location according to your nltk data path\n",
    "nltk.data.path.append(pth)\n",
    "lemmatizer = nltk.wordnet.WordNetLemmatizer()\n",
    "\n",
    "import io\n",
    "import pandas as pd\n",
    "import numpy as np\n",
    "from collections import Counter \n",
    "import re\n",
    "\n",
    "import matplotlib.pyplot as plt\n",
    "%matplotlib inline\n",
    "\n",
    "# feature engineering libs\n",
    "from sklearn.feature_extraction.text import TfidfTransformer\n",
    "from sklearn.feature_extraction.text import TfidfVectorizer\n",
    "from sklearn.feature_extraction.text import CountVectorizer\n",
    "\n",
    "#ml libs\n",
    "from sklearn.pipeline import Pipeline\n",
    "from sklearn.model_selection import train_test_split\n",
    "from sklearn.linear_model import LogisticRegression\n",
    "from sklearn.svm import LinearSVC\n",
    "from sklearn.ensemble import RandomForestClassifier\n",
    "from sklearn.neural_network import MLPClassifier\n",
    "from sklearn.model_selection import RandomizedSearchCV\n",
    "from sklearn.decomposition import TruncatedSVD\n",
    "from sklearn.model_selection import learning_curve\n",
    "from sklearn.model_selection import ShuffleSplit"
   ]
  },
  {
   "cell_type": "markdown",
   "metadata": {},
   "source": [
    "# 1 Data Insight"
   ]
  },
  {
   "cell_type": "code",
   "execution_count": 3,
   "metadata": {},
   "outputs": [
    {
     "name": "stdout",
     "output_type": "stream",
     "text": [
      "time: 999 µs\n"
     ]
    }
   ],
   "source": [
    "data_folder = 'twitter-datasets/'"
   ]
  },
  {
   "cell_type": "code",
   "execution_count": 4,
   "metadata": {},
   "outputs": [
    {
     "name": "stdout",
     "output_type": "stream",
     "text": [
      "time: 13 ms\n"
     ]
    }
   ],
   "source": [
    "def read_data(filepath, proc=False):\n",
    "    tweets       = []\n",
    "    tweets_file  = io.open(data_folder + filepath, 'r', encoding='utf8')\n",
    "    \n",
    "    for line in tweets_file:\n",
    "        tw = line.strip()\n",
    "        tweets.append(tw)\n",
    "    tweets = pd.DataFrame(tweets, columns=['tweet'])\n",
    "    if proc:\n",
    "        tweets = process(tweets)\n",
    "    return tweets"
   ]
  },
  {
   "cell_type": "code",
   "execution_count": 5,
   "metadata": {},
   "outputs": [
    {
     "name": "stdout",
     "output_type": "stream",
     "text": [
      "time: 7 ms\n"
     ]
    }
   ],
   "source": [
    "def bag_of_words(x):\n",
    "    count_vect = CountVectorizer()\n",
    "    count_x = count_vect.fit(x)\n",
    "    print('we have {} different words in the dataset'.format(len(count_vect.vocabulary_)))"
   ]
  },
  {
   "cell_type": "code",
   "execution_count": 6,
   "metadata": {},
   "outputs": [
    {
     "name": "stdout",
     "output_type": "stream",
     "text": [
      "time: 7.99 ms\n"
     ]
    }
   ],
   "source": [
    "def combine_pos_neg_tweet(pos_file, neg_file, proc=False):\n",
    "    train_pos = read_data(pos_file, proc)\n",
    "    train_pos['target'] = 1\n",
    "    train_neg = read_data(neg_file, proc)\n",
    "    train_neg['target'] = -1\n",
    "    train_data = pd.concat([train_neg, train_pos]) #merge positive and negative tweets\n",
    "    train_data = train_data.sample(frac=1, random_state=42).reset_index(drop=True) #shuffle the datas\n",
    "    \n",
    "    print('we have {} positive tweets, and {} negative ones.'.format(len(train_pos), len(train_neg)))\n",
    "    bag_of_words(train_data['tweet'])\n",
    "    \n",
    "    return train_data"
   ]
  },
  {
   "cell_type": "code",
   "execution_count": 7,
   "metadata": {},
   "outputs": [
    {
     "name": "stdout",
     "output_type": "stream",
     "text": [
      "we have 100000 positive tweets, and 100000 negative ones.\n",
      "we have 100571 different words in the dataset\n",
      "time: 3.92 s\n"
     ]
    }
   ],
   "source": [
    "unprocessed_train_data = combine_pos_neg_tweet('train_pos.txt', 'train_neg.txt')"
   ]
  },
  {
   "cell_type": "markdown",
   "metadata": {},
   "source": [
    "### data insight for the big dataset"
   ]
  },
  {
   "cell_type": "code",
   "execution_count": 8,
   "metadata": {},
   "outputs": [
    {
     "name": "stdout",
     "output_type": "stream",
     "text": [
      "we have 1250000 positive tweets, and 1250000 negative ones.\n",
      "we have 493721 different words in the dataset\n",
      "time: 47.1 s\n"
     ]
    }
   ],
   "source": [
    "kaggle_data = combine_pos_neg_tweet('train_pos_full.txt', 'train_neg_full.txt')"
   ]
  },
  {
   "cell_type": "markdown",
   "metadata": {},
   "source": [
    "##### We see that our train dataset as well as the test dataset hav equal number of positive and negative tweets (50%/50%).\n",
    "##### The train dataset contains around 100K different words, whereas the test dataset contains around 500K words. This is mostly due to the sizes of both datasets (respectively 200K and 2.5M)"
   ]
  },
  {
   "cell_type": "markdown",
   "metadata": {},
   "source": [
    "# 2 Data Preprocessing"
   ]
  },
  {
   "cell_type": "code",
   "execution_count": 9,
   "metadata": {},
   "outputs": [
    {
     "name": "stdout",
     "output_type": "stream",
     "text": [
      "time: 9.99 ms\n"
     ]
    }
   ],
   "source": [
    "neg_emoji = io.open('opinion-lexicon-english/negative_emojis.txt', encoding='utf-8-sig').read().split(\"\\n\")\n",
    "neg_emoji = dict([x.split() for x in neg_emoji])\n",
    "pos_emoji = io.open('opinion-lexicon-english/positive_emojis.txt', encoding='utf-8-sig').read().split(\"\\n\")\n",
    "pos_emoji = dict([x.split() for x in pos_emoji])\n",
    "positive_words = set(io.open('opinion-lexicon-english/positive-words.txt', encoding = \"ISO-8859-1\").read().split())\n",
    "negative_words = set(io.open('opinion-lexicon-english/negative-words.txt', encoding = \"ISO-8859-1\").read().split())"
   ]
  },
  {
   "cell_type": "code",
   "execution_count": 10,
   "metadata": {},
   "outputs": [
    {
     "name": "stdout",
     "output_type": "stream",
     "text": [
      "time: 21 ms\n"
     ]
    }
   ],
   "source": [
    "def remove_contraction(tweets):\n",
    "    \n",
    "    contractions_dict = {\n",
    "        '\\'s': '', 'who\\'s': 'who is', 'i\\'m': 'i am', 'n\\'t': 'n not', 'why\\'s': 'why is', 'he\\'s': 'he is', '\\'ll': ' will',\n",
    "        '\\'l': ' will', 'what\\'s': 'what is', 'when\\'s': 'when is', '\\'re': ' are', '\\'ve': ' have',\n",
    "        '\\'d': ' would', 'how\\'s': 'how is', 'it\\'s': 'it is', 'that\\'s': 'that is', 's\\'': '',\n",
    "    }\n",
    "    \n",
    "    pat = re.compile('|'.join(contractions_dict.keys()))\n",
    "    tweets =re.sub(r'<user>','',tweets)\n",
    "    tweets = re.sub(r'<url>','',tweets)\n",
    "    tweets = re.sub(r'rt','',tweets)\n",
    "    tweets = pat.sub(lambda x: contractions_dict[x.group()], tweets)\n",
    "    \n",
    "    return tweets\n",
    "\n",
    "def clean_redundant_character(tweet):\n",
    "    cleaned_tweet = ''\n",
    "    words = tweet.split()\n",
    "    \n",
    "    for word in words:\n",
    "        cleaned_tweet += re.sub(r'([a-z])\\1+$', r'\\1 <redundant>' , word) + ' '\n",
    "    \n",
    "    return cleaned_tweet.strip() #remove whitespace at end\n",
    "\n",
    "def handle_hashtag_number(tweet):\n",
    "    clean_tweet = ''\n",
    "    words     = tweet.split()\n",
    "        \n",
    "    for w in words:\n",
    "        try:\n",
    "            remaining = re.sub('[,\\.:%_\\+\\_\\%\\*\\/\\-]', '', w)\n",
    "            float(remaining)\n",
    "            clean_tweet += '<number> '\n",
    "        except:\n",
    "            if w.startswith(\"#\"):\n",
    "                clean_tweet += w[1:] + ' <hashtag> '\n",
    "            else:\n",
    "                clean_tweet += w + ' '\n",
    "        \n",
    "    return clean_tweet.strip()\n",
    "\n",
    "def remove_space_punctuation(tweets):\n",
    "    puncts = ['?', '.', '!', '+', '(', ')']\n",
    "    clean_tweets = ''\n",
    "    first = ''\n",
    "    j = 0\n",
    "    for w in tweets.split() : \n",
    "        if(w in puncts) :\n",
    "            if( first != w) : \n",
    "                first = w\n",
    "            else :\n",
    "                j += 1\n",
    "                if( j ==1) :\n",
    "                    clean_tweets += first + ' <repeat> '\n",
    "        else :\n",
    "            clean_tweets += w + ' '\n",
    "    return clean_tweets\n",
    "\n",
    "def map_sentiment(tweet):\n",
    "\n",
    "    cleaned_tweet = ''\n",
    "    words = tweet.split()\n",
    "    \n",
    "    #emoji sentiment \n",
    "    for word in words:\n",
    "        if(word in pos_emoji) :\n",
    "            cleaned_tweet += pos_emoji[word] + ' '\n",
    "        elif(word in neg_emoji) :\n",
    "            cleaned_tweet += neg_emoji[word] + ' '\n",
    "        else : \n",
    "            cleaned_tweet += word + ' ' \n",
    "    \n",
    "    cleaned_tweet = cleaned_tweet.split()\n",
    "    \n",
    "    #word sentiment\n",
    "    sentiment_tweet = ''\n",
    "    for word in cleaned_tweet:\n",
    "        if(word in positive_words) :\n",
    "            sentiment_tweet += 'positive ' + word + ' '\n",
    "        elif(word in negative_words) :\n",
    "            sentiment_tweet += 'negative ' + word + ' '\n",
    "        else : \n",
    "            sentiment_tweet += word + ' ' \n",
    "    return sentiment_tweet.strip()\n",
    "\n",
    "def stemSentence(tweet):    \n",
    "    s = tweet.split()\n",
    "    s = [lemmatizer.lemmatize(x) for x in s]\n",
    "    return \" \".join(s)"
   ]
  },
  {
   "cell_type": "code",
   "execution_count": 11,
   "metadata": {},
   "outputs": [
    {
     "name": "stdout",
     "output_type": "stream",
     "text": [
      "time: 13 ms\n"
     ]
    }
   ],
   "source": [
    "def process(tweets) :\n",
    "    tweets.tweet = tweets.tweet.apply(lambda t : remove_contraction(t))\n",
    "    tweets.tweet = tweets.tweet.apply(lambda t : map_sentiment(t))\n",
    "    tweets.tweet = tweets.tweet.apply(lambda t : handle_hashtag_number(t))\n",
    "    tweets.tweet = tweets.tweet.apply(lambda t : remove_space_punctuation(t))\n",
    "    tweets.tweet = tweets.tweet.apply(lambda t : clean_redundant_character(t))\n",
    "    tweets.tweet = tweets.tweet.apply(lambda t : stemSentence(t))\n",
    "    return tweets"
   ]
  },
  {
   "cell_type": "code",
   "execution_count": 12,
   "metadata": {},
   "outputs": [
    {
     "name": "stdout",
     "output_type": "stream",
     "text": [
      "we have 100000 positive tweets, and 100000 negative ones.\n",
      "we have 88101 different words in the dataset\n",
      "time: 41.8 s\n"
     ]
    }
   ],
   "source": [
    "train_data = combine_pos_neg_tweet('train_neg.txt', 'train_pos.txt', proc=True)"
   ]
  },
  {
   "cell_type": "markdown",
   "metadata": {},
   "source": [
    "##### we see that after cleaning the data, we 'loose' around 12K words which is not a bad thing."
   ]
  },
  {
   "cell_type": "code",
   "execution_count": 22,
   "metadata": {},
   "outputs": [
    {
     "name": "stdout",
     "output_type": "stream",
     "text": [
      "time: 47 ms\n"
     ]
    }
   ],
   "source": [
    "X_train, X_test, y_train, y_test = train_test_split(train_data['tweet'], train_data['target'], test_size=0.2, random_state=42)"
   ]
  },
  {
   "cell_type": "markdown",
   "metadata": {},
   "source": [
    "# 3 Feature Engineering"
   ]
  },
  {
   "cell_type": "markdown",
   "metadata": {},
   "source": [
    "##### after some exploration on CountVectorizer and TfidfVectorizer, we decided to go for tfidf, since it gives us best results as we expected"
   ]
  },
  {
   "cell_type": "code",
   "execution_count": 70,
   "metadata": {},
   "outputs": [
    {
     "name": "stdout",
     "output_type": "stream",
     "text": [
      "time: 5 ms\n"
     ]
    }
   ],
   "source": [
    "count_vect = CountVectorizer()\n",
    "tfidf_vect = TfidfVectorizer(ngram_range=(1,3))"
   ]
  },
  {
   "cell_type": "code",
   "execution_count": 76,
   "metadata": {},
   "outputs": [
    {
     "name": "stdout",
     "output_type": "stream",
     "text": [
      "time: 21.2 s\n"
     ]
    }
   ],
   "source": [
    "X_tfidf = tfidf_vect.fit_transform(X_train)\n",
    "X_count = count_vect.fit_transform(X_train)"
   ]
  },
  {
   "cell_type": "markdown",
   "metadata": {},
   "source": [
    "##### we run a grid search over night for PCA and MLP. Since we have not enough power to run MLP over all 440K features (tfidf). We decided to run PCA to reduce the dimensionality to 100, 200 and 500. However the best we achieved was around 80%, which is not so good. We saved our results in csv files in order to avoid to run the code again (6-7 hours). Here is our code and results."
   ]
  },
  {
   "cell_type": "code",
   "execution_count": 20,
   "metadata": {},
   "outputs": [
    {
     "name": "stdout",
     "output_type": "stream",
     "text": [
      "time: 9 ms\n"
     ]
    }
   ],
   "source": [
    "def pca_mlp_parameters(X_pca, train):\n",
    "    \"\"\"after manual checking, the interesting parameters are:\n",
    "        PCA-size: 100,200,300,500,100\n",
    "        learning rate init: 1e-2,1e-3,1e-4\n",
    "        learning rate: constant, adaptive, invscaling\n",
    "        tol: 1e-2,1e-3,1e-4\n",
    "        hidden layers: (50,), (100,), (150,), (50,20)\n",
    "        \n",
    "        A few comments:\n",
    "        learning rate: constant/adaptive seem good methods, for adaptive don't pick a too big init value(1e-3 too big),\n",
    "                    it only causes overfitting. constant with 1e-4 or adaptive with 1e-4 seems a good choice.\n",
    "                    we don't use invscaling, we had bad result.\n",
    "        tol: the smaller the faster the algorithm ends. 1e-2 causes no overfitting but also not a very good accuracy(77%)\n",
    "            1e-3 seem a godd value. 1e-4 gave me overfitting...\n",
    "        hidden layers: nothing to say for now, let's try some values. I mostly tried with (100,)\n",
    "        PCA-size: for small values, the algorithm has some difficulties to converge. for too big values, it takes a long time.\n",
    "        \"\"\"\n",
    "    HL = [(50,), (100,)]\n",
    "    LR = [1e-3, 1e-4]\n",
    "    LRM = ['adaptive', 'constant']\n",
    "    tol = [1e-3, 1e-4]\n",
    "\n",
    "    \"\"\"here are some more parameters\n",
    "        alpha : 0.0001\n",
    "        solver : {'lbfgs', 'sgd', 'adam'}\n",
    "        \"\"\"\n",
    "    alpha = [1e-4,1e-3,1e-2,1e-1]\n",
    "\n",
    "\n",
    "    mlp_grid = {'hidden_layer_sizes': HL,\n",
    "               'learning_rate_init': LR,\n",
    "               'learning_rate': LRM,\n",
    "               'tol': tol,\n",
    "               'alpha': alpha}\n",
    "    \n",
    "    #64 combinations\n",
    "\n",
    "    mlp_random_collection = []\n",
    "\n",
    "    for pca in X_pca:\n",
    "        mlp = MLPClassifier(max_iter=400)\n",
    "        mlp_random = RandomizedSearchCV(estimator = mlp, param_distributions = mlp_grid, n_iter = 20, cv = 3,\\\n",
    "                           verbose=5, random_state=42, n_jobs = -1, scoring='accuracy', return_train_score=True)\n",
    "        mlp_random.fit(pca, train)\n",
    "        mlp_random_collection.append(mlp_random)\n",
    "\n",
    "    return mlp_random_collection"
   ]
  },
  {
   "cell_type": "code",
   "execution_count": null,
   "metadata": {},
   "outputs": [],
   "source": [
    "train_PCA, test_PCA = get_pca(X_train, X_test, (100,200,500))"
   ]
  },
  {
   "cell_type": "code",
   "execution_count": null,
   "metadata": {},
   "outputs": [],
   "source": [
    "### 6-7 hours, mlp collection contains the 3 estimators (pca100, pca200, pca500)\n",
    "mlp_collection = pca_mlp_parameters(train_PCA, y_train)\n",
    "### output\n",
    "'''Fitting 3 folds for each of 20 candidates, totalling 60 fits\n",
    "    [Parallel(n_jobs=-1)]: Using backend LokyBackend with 4 concurrent workers.\n",
    "    [Parallel(n_jobs=-1)]: Done  10 tasks      | elapsed:  2.2min\n",
    "    [Parallel(n_jobs=-1)]: Done  60 out of  60 | elapsed: 73.0min finished\n",
    "    Fitting 3 folds for each of 20 candidates, totalling 60 fits\n",
    "    [Parallel(n_jobs=-1)]: Using backend LokyBackend with 4 concurrent workers.\n",
    "    [Parallel(n_jobs=-1)]: Done  10 tasks      | elapsed:  6.6min\n",
    "    [Parallel(n_jobs=-1)]: Done  60 out of  60 | elapsed: 96.9min finished\n",
    "    Fitting 3 folds for each of 20 candidates, totalling 60 fits\n",
    "    [Parallel(n_jobs=-1)]: Using backend LokyBackend with 4 concurrent workers.\n",
    "    [Parallel(n_jobs=-1)]: Done  10 tasks      | elapsed: 15.3min\n",
    "    [Parallel(n_jobs=-1)]: Done  60 out of  60 | elapsed: 182.6min finished'''"
   ]
  },
  {
   "cell_type": "code",
   "execution_count": 24,
   "metadata": {},
   "outputs": [
    {
     "data": {
      "text/html": [
       "<div>\n",
       "<style scoped>\n",
       "    .dataframe tbody tr th:only-of-type {\n",
       "        vertical-align: middle;\n",
       "    }\n",
       "\n",
       "    .dataframe tbody tr th {\n",
       "        vertical-align: top;\n",
       "    }\n",
       "\n",
       "    .dataframe thead th {\n",
       "        text-align: right;\n",
       "    }\n",
       "</style>\n",
       "<table border=\"1\" class=\"dataframe\">\n",
       "  <thead>\n",
       "    <tr style=\"text-align: right;\">\n",
       "      <th></th>\n",
       "      <th>Unnamed: 0</th>\n",
       "      <th>test score</th>\n",
       "    </tr>\n",
       "  </thead>\n",
       "  <tbody>\n",
       "    <tr>\n",
       "      <th>0</th>\n",
       "      <td>pca100</td>\n",
       "      <td>0.764775</td>\n",
       "    </tr>\n",
       "    <tr>\n",
       "      <th>1</th>\n",
       "      <td>pca200</td>\n",
       "      <td>0.781475</td>\n",
       "    </tr>\n",
       "    <tr>\n",
       "      <th>2</th>\n",
       "      <td>pca500</td>\n",
       "      <td>0.802550</td>\n",
       "    </tr>\n",
       "  </tbody>\n",
       "</table>\n",
       "</div>"
      ],
      "text/plain": [
       "  Unnamed: 0  test score\n",
       "0     pca100    0.764775\n",
       "1     pca200    0.781475\n",
       "2     pca500    0.802550"
      ]
     },
     "execution_count": 24,
     "metadata": {},
     "output_type": "execute_result"
    },
    {
     "name": "stdout",
     "output_type": "stream",
     "text": [
      "time: 16 ms\n"
     ]
    }
   ],
   "source": [
    "#here are the results for the best parameters for each pca (100, 200, 500)\n",
    "pd.read_csv('pca_results/test_results.csv')"
   ]
  },
  {
   "cell_type": "code",
   "execution_count": 7,
   "metadata": {},
   "outputs": [
    {
     "name": "stdout",
     "output_type": "stream",
     "text": [
      "time: 163 ms\n"
     ]
    }
   ],
   "source": [
    "pca100 = pd.read_csv('pca_results/pca100.csv')\n",
    "pca200 = pd.read_csv('pca_results/pca200.csv')\n",
    "pca500 = pd.read_csv('pca_results/pca500.csv')"
   ]
  },
  {
   "cell_type": "code",
   "execution_count": 17,
   "metadata": {},
   "outputs": [
    {
     "name": "stdout",
     "output_type": "stream",
     "text": [
      "time: 2 ms\n"
     ]
    }
   ],
   "source": [
    "def filter_order_results(mlp_s):\n",
    "    filtered = []\n",
    "    for mlp in mlp_s:\n",
    "        filtered.append(mlp.drop(['std_fit_time','mean_score_time', 'std_score_time','split0_test_score',\\\n",
    "                                 'split1_test_score', 'split2_test_score', 'std_test_score', 'split0_train_score',\\\n",
    "                                 'split1_train_score','split2_train_score', 'std_train_score', 'params'], axis=1))\n",
    "    return filtered"
   ]
  },
  {
   "cell_type": "code",
   "execution_count": 18,
   "metadata": {},
   "outputs": [
    {
     "name": "stdout",
     "output_type": "stream",
     "text": [
      "time: 4.02 ms\n"
     ]
    }
   ],
   "source": [
    "PCAS = filter_order_results([pca100, pca200, pca500])"
   ]
  },
  {
   "cell_type": "code",
   "execution_count": 21,
   "metadata": {},
   "outputs": [
    {
     "data": {
      "text/html": [
       "<div>\n",
       "<style scoped>\n",
       "    .dataframe tbody tr th:only-of-type {\n",
       "        vertical-align: middle;\n",
       "    }\n",
       "\n",
       "    .dataframe tbody tr th {\n",
       "        vertical-align: top;\n",
       "    }\n",
       "\n",
       "    .dataframe thead th {\n",
       "        text-align: right;\n",
       "    }\n",
       "</style>\n",
       "<table border=\"1\" class=\"dataframe\">\n",
       "  <thead>\n",
       "    <tr style=\"text-align: right;\">\n",
       "      <th></th>\n",
       "      <th>Unnamed: 0</th>\n",
       "      <th>mean_fit_time</th>\n",
       "      <th>param_tol</th>\n",
       "      <th>param_learning_rate_init</th>\n",
       "      <th>param_learning_rate</th>\n",
       "      <th>param_hidden_layer_sizes</th>\n",
       "      <th>param_alpha</th>\n",
       "      <th>mean_test_score</th>\n",
       "      <th>rank_test_score</th>\n",
       "      <th>mean_train_score</th>\n",
       "    </tr>\n",
       "  </thead>\n",
       "  <tbody>\n",
       "    <tr>\n",
       "      <th>5</th>\n",
       "      <td>5</td>\n",
       "      <td>420.958774</td>\n",
       "      <td>0.0010</td>\n",
       "      <td>0.0010</td>\n",
       "      <td>constant</td>\n",
       "      <td>(50,)</td>\n",
       "      <td>0.0100</td>\n",
       "      <td>0.793650</td>\n",
       "      <td>1</td>\n",
       "      <td>0.875281</td>\n",
       "    </tr>\n",
       "    <tr>\n",
       "      <th>16</th>\n",
       "      <td>16</td>\n",
       "      <td>972.978627</td>\n",
       "      <td>0.0001</td>\n",
       "      <td>0.0001</td>\n",
       "      <td>adaptive</td>\n",
       "      <td>(50,)</td>\n",
       "      <td>0.0001</td>\n",
       "      <td>0.791462</td>\n",
       "      <td>2</td>\n",
       "      <td>0.885947</td>\n",
       "    </tr>\n",
       "    <tr>\n",
       "      <th>3</th>\n",
       "      <td>3</td>\n",
       "      <td>1155.327422</td>\n",
       "      <td>0.0010</td>\n",
       "      <td>0.0010</td>\n",
       "      <td>constant</td>\n",
       "      <td>(100,)</td>\n",
       "      <td>0.0100</td>\n",
       "      <td>0.790813</td>\n",
       "      <td>3</td>\n",
       "      <td>0.925506</td>\n",
       "    </tr>\n",
       "    <tr>\n",
       "      <th>12</th>\n",
       "      <td>12</td>\n",
       "      <td>887.545906</td>\n",
       "      <td>0.0010</td>\n",
       "      <td>0.0010</td>\n",
       "      <td>adaptive</td>\n",
       "      <td>(100,)</td>\n",
       "      <td>0.0100</td>\n",
       "      <td>0.788963</td>\n",
       "      <td>4</td>\n",
       "      <td>0.923650</td>\n",
       "    </tr>\n",
       "    <tr>\n",
       "      <th>9</th>\n",
       "      <td>9</td>\n",
       "      <td>592.358834</td>\n",
       "      <td>0.0001</td>\n",
       "      <td>0.0010</td>\n",
       "      <td>constant</td>\n",
       "      <td>(100,)</td>\n",
       "      <td>0.1000</td>\n",
       "      <td>0.788900</td>\n",
       "      <td>5</td>\n",
       "      <td>0.799122</td>\n",
       "    </tr>\n",
       "    <tr>\n",
       "      <th>18</th>\n",
       "      <td>18</td>\n",
       "      <td>310.436692</td>\n",
       "      <td>0.0001</td>\n",
       "      <td>0.0010</td>\n",
       "      <td>adaptive</td>\n",
       "      <td>(50,)</td>\n",
       "      <td>0.1000</td>\n",
       "      <td>0.786956</td>\n",
       "      <td>6</td>\n",
       "      <td>0.796131</td>\n",
       "    </tr>\n",
       "    <tr>\n",
       "      <th>10</th>\n",
       "      <td>10</td>\n",
       "      <td>66.365168</td>\n",
       "      <td>0.0010</td>\n",
       "      <td>0.0010</td>\n",
       "      <td>adaptive</td>\n",
       "      <td>(100,)</td>\n",
       "      <td>0.1000</td>\n",
       "      <td>0.785019</td>\n",
       "      <td>7</td>\n",
       "      <td>0.793206</td>\n",
       "    </tr>\n",
       "    <tr>\n",
       "      <th>0</th>\n",
       "      <td>0</td>\n",
       "      <td>69.208062</td>\n",
       "      <td>0.0010</td>\n",
       "      <td>0.0010</td>\n",
       "      <td>constant</td>\n",
       "      <td>(50,)</td>\n",
       "      <td>0.1000</td>\n",
       "      <td>0.783763</td>\n",
       "      <td>8</td>\n",
       "      <td>0.791403</td>\n",
       "    </tr>\n",
       "    <tr>\n",
       "      <th>14</th>\n",
       "      <td>14</td>\n",
       "      <td>270.286611</td>\n",
       "      <td>0.0010</td>\n",
       "      <td>0.0001</td>\n",
       "      <td>adaptive</td>\n",
       "      <td>(50,)</td>\n",
       "      <td>0.0100</td>\n",
       "      <td>0.778963</td>\n",
       "      <td>9</td>\n",
       "      <td>0.784969</td>\n",
       "    </tr>\n",
       "    <tr>\n",
       "      <th>6</th>\n",
       "      <td>6</td>\n",
       "      <td>231.780717</td>\n",
       "      <td>0.0010</td>\n",
       "      <td>0.0010</td>\n",
       "      <td>adaptive</td>\n",
       "      <td>(50,)</td>\n",
       "      <td>0.0010</td>\n",
       "      <td>0.775369</td>\n",
       "      <td>10</td>\n",
       "      <td>0.918897</td>\n",
       "    </tr>\n",
       "    <tr>\n",
       "      <th>2</th>\n",
       "      <td>2</td>\n",
       "      <td>270.731128</td>\n",
       "      <td>0.0010</td>\n",
       "      <td>0.0010</td>\n",
       "      <td>adaptive</td>\n",
       "      <td>(50,)</td>\n",
       "      <td>0.0001</td>\n",
       "      <td>0.775100</td>\n",
       "      <td>11</td>\n",
       "      <td>0.919103</td>\n",
       "    </tr>\n",
       "    <tr>\n",
       "      <th>1</th>\n",
       "      <td>1</td>\n",
       "      <td>104.803773</td>\n",
       "      <td>0.0010</td>\n",
       "      <td>0.0001</td>\n",
       "      <td>adaptive</td>\n",
       "      <td>(100,)</td>\n",
       "      <td>0.1000</td>\n",
       "      <td>0.767900</td>\n",
       "      <td>12</td>\n",
       "      <td>0.771141</td>\n",
       "    </tr>\n",
       "    <tr>\n",
       "      <th>7</th>\n",
       "      <td>7</td>\n",
       "      <td>534.109419</td>\n",
       "      <td>0.0010</td>\n",
       "      <td>0.0010</td>\n",
       "      <td>constant</td>\n",
       "      <td>(100,)</td>\n",
       "      <td>0.0001</td>\n",
       "      <td>0.767525</td>\n",
       "      <td>13</td>\n",
       "      <td>0.988297</td>\n",
       "    </tr>\n",
       "    <tr>\n",
       "      <th>19</th>\n",
       "      <td>19</td>\n",
       "      <td>438.615256</td>\n",
       "      <td>0.0010</td>\n",
       "      <td>0.0010</td>\n",
       "      <td>adaptive</td>\n",
       "      <td>(100,)</td>\n",
       "      <td>0.0001</td>\n",
       "      <td>0.767306</td>\n",
       "      <td>14</td>\n",
       "      <td>0.985497</td>\n",
       "    </tr>\n",
       "    <tr>\n",
       "      <th>15</th>\n",
       "      <td>15</td>\n",
       "      <td>57.662646</td>\n",
       "      <td>0.0010</td>\n",
       "      <td>0.0001</td>\n",
       "      <td>adaptive</td>\n",
       "      <td>(50,)</td>\n",
       "      <td>0.1000</td>\n",
       "      <td>0.765825</td>\n",
       "      <td>15</td>\n",
       "      <td>0.768587</td>\n",
       "    </tr>\n",
       "    <tr>\n",
       "      <th>8</th>\n",
       "      <td>8</td>\n",
       "      <td>3082.150413</td>\n",
       "      <td>0.0001</td>\n",
       "      <td>0.0010</td>\n",
       "      <td>adaptive</td>\n",
       "      <td>(100,)</td>\n",
       "      <td>0.0010</td>\n",
       "      <td>0.763069</td>\n",
       "      <td>16</td>\n",
       "      <td>0.992853</td>\n",
       "    </tr>\n",
       "    <tr>\n",
       "      <th>17</th>\n",
       "      <td>17</td>\n",
       "      <td>1295.628434</td>\n",
       "      <td>0.0001</td>\n",
       "      <td>0.0010</td>\n",
       "      <td>adaptive</td>\n",
       "      <td>(50,)</td>\n",
       "      <td>0.0010</td>\n",
       "      <td>0.761606</td>\n",
       "      <td>17</td>\n",
       "      <td>0.953428</td>\n",
       "    </tr>\n",
       "    <tr>\n",
       "      <th>11</th>\n",
       "      <td>11</td>\n",
       "      <td>1061.384430</td>\n",
       "      <td>0.0001</td>\n",
       "      <td>0.0010</td>\n",
       "      <td>adaptive</td>\n",
       "      <td>(100,)</td>\n",
       "      <td>0.0001</td>\n",
       "      <td>0.760994</td>\n",
       "      <td>18</td>\n",
       "      <td>0.995375</td>\n",
       "    </tr>\n",
       "    <tr>\n",
       "      <th>13</th>\n",
       "      <td>13</td>\n",
       "      <td>1134.157326</td>\n",
       "      <td>0.0001</td>\n",
       "      <td>0.0010</td>\n",
       "      <td>constant</td>\n",
       "      <td>(100,)</td>\n",
       "      <td>0.0001</td>\n",
       "      <td>0.760581</td>\n",
       "      <td>19</td>\n",
       "      <td>0.996078</td>\n",
       "    </tr>\n",
       "    <tr>\n",
       "      <th>4</th>\n",
       "      <td>4</td>\n",
       "      <td>839.937817</td>\n",
       "      <td>0.0001</td>\n",
       "      <td>0.0010</td>\n",
       "      <td>constant</td>\n",
       "      <td>(50,)</td>\n",
       "      <td>0.0001</td>\n",
       "      <td>0.757288</td>\n",
       "      <td>20</td>\n",
       "      <td>0.956753</td>\n",
       "    </tr>\n",
       "  </tbody>\n",
       "</table>\n",
       "</div>"
      ],
      "text/plain": [
       "    Unnamed: 0  mean_fit_time  param_tol  param_learning_rate_init  \\\n",
       "5            5     420.958774     0.0010                    0.0010   \n",
       "16          16     972.978627     0.0001                    0.0001   \n",
       "3            3    1155.327422     0.0010                    0.0010   \n",
       "12          12     887.545906     0.0010                    0.0010   \n",
       "9            9     592.358834     0.0001                    0.0010   \n",
       "18          18     310.436692     0.0001                    0.0010   \n",
       "10          10      66.365168     0.0010                    0.0010   \n",
       "0            0      69.208062     0.0010                    0.0010   \n",
       "14          14     270.286611     0.0010                    0.0001   \n",
       "6            6     231.780717     0.0010                    0.0010   \n",
       "2            2     270.731128     0.0010                    0.0010   \n",
       "1            1     104.803773     0.0010                    0.0001   \n",
       "7            7     534.109419     0.0010                    0.0010   \n",
       "19          19     438.615256     0.0010                    0.0010   \n",
       "15          15      57.662646     0.0010                    0.0001   \n",
       "8            8    3082.150413     0.0001                    0.0010   \n",
       "17          17    1295.628434     0.0001                    0.0010   \n",
       "11          11    1061.384430     0.0001                    0.0010   \n",
       "13          13    1134.157326     0.0001                    0.0010   \n",
       "4            4     839.937817     0.0001                    0.0010   \n",
       "\n",
       "   param_learning_rate param_hidden_layer_sizes  param_alpha  mean_test_score  \\\n",
       "5             constant                    (50,)       0.0100         0.793650   \n",
       "16            adaptive                    (50,)       0.0001         0.791462   \n",
       "3             constant                   (100,)       0.0100         0.790813   \n",
       "12            adaptive                   (100,)       0.0100         0.788963   \n",
       "9             constant                   (100,)       0.1000         0.788900   \n",
       "18            adaptive                    (50,)       0.1000         0.786956   \n",
       "10            adaptive                   (100,)       0.1000         0.785019   \n",
       "0             constant                    (50,)       0.1000         0.783763   \n",
       "14            adaptive                    (50,)       0.0100         0.778963   \n",
       "6             adaptive                    (50,)       0.0010         0.775369   \n",
       "2             adaptive                    (50,)       0.0001         0.775100   \n",
       "1             adaptive                   (100,)       0.1000         0.767900   \n",
       "7             constant                   (100,)       0.0001         0.767525   \n",
       "19            adaptive                   (100,)       0.0001         0.767306   \n",
       "15            adaptive                    (50,)       0.1000         0.765825   \n",
       "8             adaptive                   (100,)       0.0010         0.763069   \n",
       "17            adaptive                    (50,)       0.0010         0.761606   \n",
       "11            adaptive                   (100,)       0.0001         0.760994   \n",
       "13            constant                   (100,)       0.0001         0.760581   \n",
       "4             constant                    (50,)       0.0001         0.757288   \n",
       "\n",
       "    rank_test_score  mean_train_score  \n",
       "5                 1          0.875281  \n",
       "16                2          0.885947  \n",
       "3                 3          0.925506  \n",
       "12                4          0.923650  \n",
       "9                 5          0.799122  \n",
       "18                6          0.796131  \n",
       "10                7          0.793206  \n",
       "0                 8          0.791403  \n",
       "14                9          0.784969  \n",
       "6                10          0.918897  \n",
       "2                11          0.919103  \n",
       "1                12          0.771141  \n",
       "7                13          0.988297  \n",
       "19               14          0.985497  \n",
       "15               15          0.768587  \n",
       "8                16          0.992853  \n",
       "17               17          0.953428  \n",
       "11               18          0.995375  \n",
       "13               19          0.996078  \n",
       "4                20          0.956753  "
      ]
     },
     "execution_count": 21,
     "metadata": {},
     "output_type": "execute_result"
    },
    {
     "name": "stdout",
     "output_type": "stream",
     "text": [
      "time: 26 ms\n"
     ]
    }
   ],
   "source": [
    "#print the pca500 results, which gave the best score\n",
    "PCAS[2].sort_values(['rank_test_score'])"
   ]
  },
  {
   "cell_type": "markdown",
   "metadata": {},
   "source": [
    "# 4 Model Selection"
   ]
  },
  {
   "cell_type": "markdown",
   "metadata": {},
   "source": [
    "##### some helper functions"
   ]
  },
  {
   "cell_type": "code",
   "execution_count": 30,
   "metadata": {},
   "outputs": [
    {
     "name": "stdout",
     "output_type": "stream",
     "text": [
      "time: 2 ms\n"
     ]
    }
   ],
   "source": [
    "def find_parameters(X, y, classifier ,parameters, iterations, max_features = None, ngrams = (1,3)):\n",
    "    \"\"\"\n",
    "        X_train: data features\n",
    "        y_train: data labels\n",
    "        classifier: classifier used for the random grid search\n",
    "        parameters: a dict of string/iterable containing the classifier parameters used for the random grid search\n",
    "        iterations: number of parameter combination to test\n",
    "        max_features: max features for the tfidf\n",
    "        ngrams: ngrams for tfidf\n",
    "        \"\"\"\n",
    "    \n",
    "    \n",
    "    random_clf = RandomizedSearchCV(estimator = classifier, param_distributions = parameters, n_iter = iterations, cv = 3,\\\n",
    "                                       verbose=5, random_state=42, n_jobs = -1, scoring='accuracy')\n",
    "    random_pipeline = Pipeline([('tfidf', TfidfVectorizer(max_features=max_features, ngram_range=ngrams)),\\\n",
    "                                ('clf', random_clf)])\n",
    "    random_pipeline.fit(X, y)\n",
    "    \n",
    "    return random_pipeline, random_clf\n"
   ]
  },
  {
   "cell_type": "markdown",
   "metadata": {},
   "source": [
    "### function found in https://scikit-learn.org/stable/auto_examples/model_selection/plot_learning_curve.html"
   ]
  },
  {
   "cell_type": "code",
   "execution_count": 62,
   "metadata": {},
   "outputs": [
    {
     "name": "stdout",
     "output_type": "stream",
     "text": [
      "time: 18 ms\n"
     ]
    }
   ],
   "source": [
    "def plot_learning_curve(estimator, title, X, y, ylim=None, cv=None,\n",
    "                        n_jobs=None, train_sizes=np.linspace(.1, 1.0, 5)):\n",
    "    \"\"\"\n",
    "    Generate a simple plot of the test and training learning curve.\n",
    "\n",
    "    Parameters\n",
    "    ----------\n",
    "    estimator : object type that implements the \"fit\" and \"predict\" methods\n",
    "        An object of that type which is cloned for each validation.\n",
    "\n",
    "    title : string\n",
    "        Title for the chart.\n",
    "\n",
    "    X : array-like, shape (n_samples, n_features)\n",
    "        Training vector, where n_samples is the number of samples and\n",
    "        n_features is the number of features.\n",
    "\n",
    "    y : array-like, shape (n_samples) or (n_samples, n_features), optional\n",
    "        Target relative to X for classification or regression;\n",
    "        None for unsupervised learning.\n",
    "\n",
    "    ylim : tuple, shape (ymin, ymax), optional\n",
    "        Defines minimum and maximum yvalues plotted.\n",
    "\n",
    "    cv : int, cross-validation generator or an iterable, optional\n",
    "        Determines the cross-validation splitting strategy.\n",
    "        Possible inputs for cv are:\n",
    "          - None, to use the default 3-fold cross-validation,\n",
    "          - integer, to specify the number of folds.\n",
    "          - :term:`CV splitter`,\n",
    "          - An iterable yielding (train, test) splits as arrays of indices.\n",
    "\n",
    "        For integer/None inputs, if ``y`` is binary or multiclass,\n",
    "        :class:`StratifiedKFold` used. If the estimator is not a classifier\n",
    "        or if ``y`` is neither binary nor multiclass, :class:`KFold` is used.\n",
    "\n",
    "        Refer :ref:`User Guide <cross_validation>` for the various\n",
    "        cross-validators that can be used here.\n",
    "\n",
    "    n_jobs : int or None, optional (default=None)\n",
    "        Number of jobs to run in parallel.\n",
    "        ``None`` means 1 unless in a :obj:`joblib.parallel_backend` context.\n",
    "        ``-1`` means using all processors. See :term:`Glossary <n_jobs>`\n",
    "        for more details.\n",
    "\n",
    "    train_sizes : array-like, shape (n_ticks,), dtype float or int\n",
    "        Relative or absolute numbers of training examples that will be used to\n",
    "        generate the learning curve. If the dtype is float, it is regarded as a\n",
    "        fraction of the maximum size of the training set (that is determined\n",
    "        by the selected validation method), i.e. it has to be within (0, 1].\n",
    "        Otherwise it is interpreted as absolute sizes of the training sets.\n",
    "        Note that for classification the number of samples usually have to\n",
    "        be big enough to contain at least one sample from each class.\n",
    "        (default: np.linspace(0.1, 1.0, 5))\n",
    "    \"\"\"\n",
    "    plt.figure()\n",
    "    plt.title(title)\n",
    "    if ylim is not None:\n",
    "        plt.ylim(*ylim)\n",
    "    plt.xlabel(\"Training examples\")\n",
    "    plt.ylabel(\"Score\")\n",
    "    train_sizes, train_scores, test_scores = learning_curve(\n",
    "        estimator, X, y, cv=cv, n_jobs=n_jobs, train_sizes=train_sizes, scoring='accuracy')\n",
    "    train_scores_mean = np.mean(train_scores, axis=1)\n",
    "    train_scores_std = np.std(train_scores, axis=1)\n",
    "    test_scores_mean = np.mean(test_scores, axis=1)\n",
    "    test_scores_std = np.std(test_scores, axis=1)\n",
    "    plt.grid()\n",
    "\n",
    "    plt.fill_between(train_sizes, train_scores_mean - train_scores_std,\n",
    "                     train_scores_mean + train_scores_std, alpha=0.1,\n",
    "                     color=\"r\")\n",
    "    plt.fill_between(train_sizes, test_scores_mean - test_scores_std,\n",
    "                     test_scores_mean + test_scores_std, alpha=0.1, color=\"g\")\n",
    "    plt.plot(train_sizes, train_scores_mean, 'o-', color=\"r\",\n",
    "             label=\"Training score\")\n",
    "    plt.plot(train_sizes, test_scores_mean, 'o-', color=\"g\",\n",
    "             label=\"Cross-validation score\")\n",
    "\n",
    "    plt.legend(loc=\"best\")\n",
    "    return plt"
   ]
  },
  {
   "cell_type": "markdown",
   "metadata": {},
   "source": [
    "## a) Logistic Regression"
   ]
  },
  {
   "cell_type": "markdown",
   "metadata": {},
   "source": [
    "##### first we begin by trying on some parameters for the logsitic regression"
   ]
  },
  {
   "cell_type": "code",
   "execution_count": 52,
   "metadata": {},
   "outputs": [
    {
     "name": "stdout",
     "output_type": "stream",
     "text": [
      "time: 2 ms\n"
     ]
    }
   ],
   "source": [
    "log_parameter_grid = {'penalty': ['l1','l2'],\n",
    "                  'C': [9,10, 11],\n",
    "                  'tol': [1e-4]}"
   ]
  },
  {
   "cell_type": "code",
   "execution_count": 58,
   "metadata": {
    "scrolled": true
   },
   "outputs": [
    {
     "name": "stdout",
     "output_type": "stream",
     "text": [
      "Fitting 3 folds for each of 3 candidates, totalling 9 fits\n"
     ]
    },
    {
     "name": "stderr",
     "output_type": "stream",
     "text": [
      "[Parallel(n_jobs=-1)]: Using backend LokyBackend with 4 concurrent workers.\n",
      "[Parallel(n_jobs=-1)]: Done   4 out of   9 | elapsed:  1.0min remaining:  1.3min\n",
      "[Parallel(n_jobs=-1)]: Done   6 out of   9 | elapsed:  2.4min remaining:  1.2min\n",
      "[Parallel(n_jobs=-1)]: Done   9 out of   9 | elapsed:  2.7min finished\n",
      "C:\\Users\\patrik\\AppData\\Local\\conda\\conda\\envs\\ada\\lib\\site-packages\\sklearn\\linear_model\\logistic.py:432: FutureWarning: Default solver will be changed to 'lbfgs' in 0.22. Specify a solver to silence this warning.\n",
      "  FutureWarning)\n"
     ]
    },
    {
     "name": "stdout",
     "output_type": "stream",
     "text": [
      "time: 3min 21s\n"
     ]
    }
   ],
   "source": [
    "log_clf = LogisticRegression()\n",
    "log_pipeline, log = find_parameters(X_train, y_train, log_clf, parameter_grid, 3)"
   ]
  },
  {
   "cell_type": "code",
   "execution_count": 63,
   "metadata": {},
   "outputs": [
    {
     "name": "stdout",
     "output_type": "stream",
     "text": [
      "we obtain an accuracy of 0.83048125, for {'tol': 0.0001, 'penalty': 'l2', 'C': 10}\n",
      "time: 2 ms\n"
     ]
    }
   ],
   "source": [
    "print('we obtain an accuracy of {}, for {}'.format(clf.best_score_, clf.best_params_))"
   ]
  },
  {
   "cell_type": "code",
   "execution_count": 72,
   "metadata": {},
   "outputs": [
    {
     "data": {
      "text/plain": [
       "<module 'matplotlib.pyplot' from 'C:\\\\Users\\\\patrik\\\\AppData\\\\Local\\\\conda\\\\conda\\\\envs\\\\ada\\\\lib\\\\site-packages\\\\matplotlib\\\\pyplot.py'>"
      ]
     },
     "execution_count": 72,
     "metadata": {},
     "output_type": "execute_result"
    },
    {
     "data": {
      "image/png": "[encoded data removed]",
      "text/plain": [
       "<Figure size 432x288 with 1 Axes>"
      ]
     },
     "metadata": {
      "needs_background": "light"
     },
     "output_type": "display_data"
    },
    {
     "name": "stdout",
     "output_type": "stream",
     "text": [
      "time: 1min 33s\n"
     ]
    }
   ],
   "source": [
    "t = clf.best_params_['tol']\n",
    "p = clf.best_params_['penalty']\n",
    "c = clf.best_params_['C']\n",
    "plot_learning_curve(LogisticRegression(), 'Logistic Regression', X_tfidf, y_train, cv=5, n_jobs=-1)"
   ]
  },
  {
   "cell_type": "markdown",
   "metadata": {},
   "source": [
    "## b) Linear Support Vector Machine"
   ]
  },
  {
   "cell_type": "code",
   "execution_count": 43,
   "metadata": {},
   "outputs": [
    {
     "name": "stdout",
     "output_type": "stream",
     "text": [
      "time: 999 µs\n"
     ]
    }
   ],
   "source": [
    "svm_parameter_grid = {'C': [0.001,0.01,0.1,1,10,100]}"
   ]
  },
  {
   "cell_type": "code",
   "execution_count": 49,
   "metadata": {},
   "outputs": [
    {
     "name": "stdout",
     "output_type": "stream",
     "text": [
      "Fitting 3 folds for each of 6 candidates, totalling 18 fits\n"
     ]
    },
    {
     "name": "stderr",
     "output_type": "stream",
     "text": [
      "[Parallel(n_jobs=-1)]: Using backend LokyBackend with 4 concurrent workers.\n",
      "[Parallel(n_jobs=-1)]: Done  10 tasks      | elapsed:   17.6s\n",
      "[Parallel(n_jobs=-1)]: Done  15 out of  18 | elapsed:  1.7min remaining:   20.0s\n",
      "[Parallel(n_jobs=-1)]: Done  18 out of  18 | elapsed:  2.9min finished\n"
     ]
    },
    {
     "name": "stdout",
     "output_type": "stream",
     "text": [
      "time: 3min 19s\n"
     ]
    }
   ],
   "source": [
    "svm_clf = LinearSVC()\n",
    "svm_pipeline, svm = find_parameters(X_train, y_train, svm_clf, svm_parameter_grid, 6)"
   ]
  },
  {
   "cell_type": "code",
   "execution_count": 50,
   "metadata": {},
   "outputs": [
    {
     "name": "stdout",
     "output_type": "stream",
     "text": [
      "we obtain an accuracy of 0.83085625, for {'C': 1}\n",
      "time: 1e+03 µs\n"
     ]
    }
   ],
   "source": [
    "print('we obtain an accuracy of {}, for {}'.format(svm.best_score_, svm.best_params_))"
   ]
  },
  {
   "cell_type": "code",
   "execution_count": 75,
   "metadata": {
    "scrolled": false
   },
   "outputs": [
    {
     "data": {
      "text/plain": [
       "<module 'matplotlib.pyplot' from 'C:\\\\Users\\\\patrik\\\\AppData\\\\Local\\\\conda\\\\conda\\\\envs\\\\ada\\\\lib\\\\site-packages\\\\matplotlib\\\\pyplot.py'>"
      ]
     },
     "execution_count": 75,
     "metadata": {},
     "output_type": "execute_result"
    },
    {
     "data": {
      "image/png": "[encoded data removed]",
      "text/plain": [
       "<Figure size 432x288 with 1 Axes>"
      ]
     },
     "metadata": {
      "needs_background": "light"
     },
     "output_type": "display_data"
    },
    {
     "name": "stdout",
     "output_type": "stream",
     "text": [
      "time: 34.8 s\n"
     ]
    }
   ],
   "source": [
    "c = clf.best_params_['C']\n",
    "plot_learning_curve(LinearSVC(), 'SVM Regression', X_tfidf, y_train, cv=5, n_jobs=-1)"
   ]
  }
 ],
 "metadata": {
  "kernelspec": {
   "display_name": "Python [conda env:ada]",
   "language": "python",
   "name": "conda-env-ada-py"
  },
  "language_info": {
   "codemirror_mode": {
    "name": "ipython",
    "version": 3
   },
   "file_extension": ".py",
   "mimetype": "text/x-python",
   "name": "python",
   "nbconvert_exporter": "python",
   "pygments_lexer": "ipython3",
   "version": "3.6.6"
  }
 },
 "nbformat": 4,
 "nbformat_minor": 2
}
